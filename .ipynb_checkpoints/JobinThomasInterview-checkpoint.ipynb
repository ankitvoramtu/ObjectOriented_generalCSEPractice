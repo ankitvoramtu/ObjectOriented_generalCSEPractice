{
 "cells": [
  {
   "cell_type": "markdown",
   "metadata": {},
   "source": [
    "# Question 3"
   ]
  },
  {
   "cell_type": "markdown",
   "metadata": {},
   "source": [
    "Inputs and Set up"
   ]
  },
  {
   "cell_type": "code",
   "execution_count": 1,
   "metadata": {
    "collapsed": true
   },
   "outputs": [],
   "source": [
    "import json"
   ]
  },
  {
   "cell_type": "code",
   "execution_count": 3,
   "metadata": {
    "collapsed": false
   },
   "outputs": [],
   "source": [
    "s31 = {'A':[('B',2)],'B':[('A',2),('C',5)],'C':[('B',5)]}\n",
    "s32 = {'A':[('E',5),('H',6),('F',1),('B',8)],'B':[('F',6),('C',4)],'C':[('F',2),('G',7)],'G':[('F',9)],'F':[('H',5)],'H':[('E',3)]}"
   ]
  },
  {
   "cell_type": "code",
   "execution_count": 4,
   "metadata": {
    "collapsed": false
   },
   "outputs": [
    {
     "name": "stdout",
     "output_type": "stream",
     "text": [
      "3\n",
      "[(1, 3), (1, 4), (2, 3), (2, 1), (2, 4), (3, 1), (3, 4)] \n",
      "\n",
      "{\"1\": [[\"A\", \"F\"]], \"2\": [[\"C\", \"F\"]], \"3\": [[\"E\", \"H\"]], \"4\": [[\"B\", \"C\"]], \"5\": [[\"A\", \"E\"], [\"F\", \"H\"]], \"6\": [[\"A\", \"H\"], [\"B\", \"F\"]], \"7\": [[\"C\", \"G\"]], \"8\": [[\"A\", \"B\"]], \"9\": [[\"F\", \"G\"]]}\n",
      "['A', 'B', 'C', 'E', 'F', 'G', 'H']\n",
      "[u'1', u'3', u'2', u'5', u'4', u'7', u'6', u'9', u'8']\n"
     ]
    }
   ],
   "source": [
    "a = s32\n",
    "vTable =[]; wTable =[]\n",
    "lenn = 0\n",
    "\n",
    "class Ddd(dict):\n",
    "    def __setitem__(self, key, value):\n",
    "        try:\n",
    "            self[key]\n",
    "        except KeyError:\n",
    "            super(Dictlist, self).__setitem__(key, [])\n",
    "        self[key].append(value)\n",
    "\n",
    "for k in s32:\n",
    "    lenn = len(a[k])\n",
    "    for j in range(len(a[k])):\n",
    "        \n",
    "        if sorted([k,a[k][j][0]]) not in vTable:\n",
    "            if a[k][j][1] not in wTable:\n",
    "                vTable.append([sorted([k,a[k][j][0]])])\n",
    "                wTable.append(a[k][j][1])\n",
    "                vwDict = Ddd(zip(wTable,vTable))\n",
    "            else:\n",
    "                vwDict[a[k][j][1]] = sorted([k,a[k][j][0]])\n",
    "jsonDict =  json.dumps(vwDict, sort_keys = True)\n",
    "v = []\n",
    "for k in s32:\n",
    "    for j in range(len(a[k])):\n",
    "        if k not in v:\n",
    "            v.append(k)\n",
    "        if a[k][j][0] not in v:\n",
    "            v.append(a[k][j][0])\n",
    "print 4 if 1 == 2 else 3\n",
    "print [(x, y) for x in [1,2,3] for y in [3,1,4] if x != y],'\\n'\n",
    "print jsonDict\n",
    "print sorted(v)\n",
    "\n",
    "jsonObject = json.loads(jsonDict)\n",
    "print jsonObject.keys()"
   ]
  },
  {
   "cell_type": "markdown",
   "metadata": {},
   "source": [
    "#### Prims Algorithm"
   ]
  },
  {
   "cell_type": "markdown",
   "metadata": {
    "collapsed": true
   },
   "source": [
    "1. Reaches every vertex\n",
    "2. Has minimum total weight\n",
    "3. Has no cycles\n",
    "\n",
    "### Psuedocode\n",
    "> \n",
    ">choose vertex \n",
    ">\n",
    ">list the sorted edges from that vertex \n",
    ">\n",
    ">     if jsonObject[edge] not in vertexArray \n",
    ">\n",
    ">select lowest edge from that vertex\n",
    ">\n",
    ">append the new vertex to chosen verticeArray\n",
    ">\n",
    ">choose lowest edge connected to a vertex from verticeArray\n",
    "    >\n",
    "    >     append to verticeArray, if new vertex chosen from edge is not in verticeArray\n",
    "    \n",
    "\n",
    "\n"
   ]
  },
  {
   "cell_type": "code",
   "execution_count": 8,
   "metadata": {
    "collapsed": false
   },
   "outputs": [
    {
     "ename": "ValueError",
     "evalue": "min() arg is an empty sequence",
     "output_type": "error",
     "traceback": [
      "\u001b[1;31m---------------------------------------------------------------------------\u001b[0m",
      "\u001b[1;31mValueError\u001b[0m                                Traceback (most recent call last)",
      "\u001b[1;32m<ipython-input-8-b3c8a4306766>\u001b[0m in \u001b[0;36m<module>\u001b[1;34m()\u001b[0m\n\u001b[0;32m     24\u001b[0m         \u001b[0mexpandVertex\u001b[0m \u001b[1;33m=\u001b[0m \u001b[1;33m[\u001b[0m\u001b[1;33m]\u001b[0m\u001b[1;33m\u001b[0m\u001b[0m\n\u001b[0;32m     25\u001b[0m         \u001b[1;32mfor\u001b[0m \u001b[0msecondV\u001b[0m \u001b[1;32min\u001b[0m \u001b[0mvertexArray\u001b[0m\u001b[1;33m:\u001b[0m\u001b[1;33m\u001b[0m\u001b[0m\n\u001b[1;32m---> 26\u001b[1;33m             \u001b[0mexpandVertex\u001b[0m\u001b[1;33m.\u001b[0m\u001b[0mappend\u001b[0m\u001b[1;33m(\u001b[0m\u001b[1;33m[\u001b[0m\u001b[0msecondV\u001b[0m\u001b[1;33m,\u001b[0m \u001b[0mchooser\u001b[0m\u001b[1;33m(\u001b[0m\u001b[0msecondV\u001b[0m\u001b[1;33m,\u001b[0m\u001b[0mvertexArray\u001b[0m\u001b[1;33m,\u001b[0m\u001b[0mjsonObject\u001b[0m\u001b[1;33m)\u001b[0m\u001b[1;33m]\u001b[0m\u001b[1;33m)\u001b[0m\u001b[1;33m\u001b[0m\u001b[0m\n\u001b[0m\u001b[0;32m     27\u001b[0m \u001b[1;33m\u001b[0m\u001b[0m\n\u001b[0;32m     28\u001b[0m         \u001b[1;32mprint\u001b[0m \u001b[0mmin\u001b[0m\u001b[1;33m(\u001b[0m\u001b[0mexpandVertex\u001b[0m\u001b[1;33m)\u001b[0m\u001b[1;33m\u001b[0m\u001b[0m\n",
      "\u001b[1;32m<ipython-input-8-b3c8a4306766>\u001b[0m in \u001b[0;36mchooser\u001b[1;34m(chosenV, vertexArray, jsonObject)\u001b[0m\n\u001b[0;32m      6\u001b[0m                 \u001b[1;32mif\u001b[0m \u001b[0mstr\u001b[0m\u001b[1;33m(\u001b[0m\u001b[0mjsonObject\u001b[0m\u001b[1;33m[\u001b[0m\u001b[0mKey\u001b[0m\u001b[1;33m]\u001b[0m\u001b[1;33m[\u001b[0m\u001b[0mVal\u001b[0m\u001b[1;33m]\u001b[0m\u001b[1;33m[\u001b[0m\u001b[1;36m0\u001b[0m\u001b[1;33m]\u001b[0m\u001b[1;33m)\u001b[0m \u001b[1;32mnot\u001b[0m \u001b[1;32min\u001b[0m \u001b[0mvertexArray\u001b[0m \u001b[1;32mand\u001b[0m \u001b[0mstr\u001b[0m\u001b[1;33m(\u001b[0m\u001b[0mjsonObject\u001b[0m\u001b[1;33m[\u001b[0m\u001b[0mKey\u001b[0m\u001b[1;33m]\u001b[0m\u001b[1;33m[\u001b[0m\u001b[0mVal\u001b[0m\u001b[1;33m]\u001b[0m\u001b[1;33m[\u001b[0m\u001b[1;36m0\u001b[0m\u001b[1;33m]\u001b[0m\u001b[1;33m)\u001b[0m \u001b[1;32mnot\u001b[0m \u001b[1;32min\u001b[0m \u001b[0mvertexArray\u001b[0m\u001b[1;33m:\u001b[0m\u001b[1;33m\u001b[0m\u001b[0m\n\u001b[0;32m      7\u001b[0m                     \u001b[0mchosenVOptions\u001b[0m\u001b[1;33m.\u001b[0m\u001b[0mappend\u001b[0m\u001b[1;33m(\u001b[0m\u001b[1;33m[\u001b[0m\u001b[0mstr\u001b[0m\u001b[1;33m(\u001b[0m\u001b[0mKey\u001b[0m\u001b[1;33m)\u001b[0m\u001b[1;33m,\u001b[0m \u001b[0mstr\u001b[0m\u001b[1;33m(\u001b[0m\u001b[0mjsonObject\u001b[0m\u001b[1;33m[\u001b[0m\u001b[0mKey\u001b[0m\u001b[1;33m]\u001b[0m\u001b[1;33m[\u001b[0m\u001b[0mVal\u001b[0m\u001b[1;33m]\u001b[0m\u001b[1;33m[\u001b[0m\u001b[1;36m0\u001b[0m\u001b[1;33m]\u001b[0m\u001b[1;33m)\u001b[0m\u001b[1;33m,\u001b[0m\u001b[0mstr\u001b[0m\u001b[1;33m(\u001b[0m\u001b[0mjsonObject\u001b[0m\u001b[1;33m[\u001b[0m\u001b[0mKey\u001b[0m\u001b[1;33m]\u001b[0m\u001b[1;33m[\u001b[0m\u001b[0mVal\u001b[0m\u001b[1;33m]\u001b[0m\u001b[1;33m[\u001b[0m\u001b[1;36m1\u001b[0m\u001b[1;33m]\u001b[0m\u001b[1;33m)\u001b[0m\u001b[1;33m]\u001b[0m\u001b[1;33m)\u001b[0m\u001b[1;33m\u001b[0m\u001b[0m\n\u001b[1;32m----> 8\u001b[1;33m     \u001b[0mchosenVertex\u001b[0m \u001b[1;33m=\u001b[0m \u001b[0mmin\u001b[0m\u001b[1;33m(\u001b[0m\u001b[0mchosenVOptions\u001b[0m\u001b[1;33m)\u001b[0m\u001b[1;33m\u001b[0m\u001b[0m\n\u001b[0m\u001b[0;32m      9\u001b[0m     \u001b[1;32mreturn\u001b[0m \u001b[0mchosenVertex\u001b[0m\u001b[1;33m[\u001b[0m\u001b[1;36m2\u001b[0m\u001b[1;33m]\u001b[0m \u001b[1;32mif\u001b[0m \u001b[0mchosenVertex\u001b[0m\u001b[1;33m[\u001b[0m\u001b[1;36m2\u001b[0m\u001b[1;33m]\u001b[0m \u001b[1;33m!=\u001b[0m \u001b[0mchosenV\u001b[0m \u001b[1;32melse\u001b[0m \u001b[0mchosenVertex\u001b[0m\u001b[1;33m[\u001b[0m\u001b[1;36m1\u001b[0m\u001b[1;33m]\u001b[0m\u001b[1;33m\u001b[0m\u001b[0m\n\u001b[0;32m     10\u001b[0m \u001b[1;33m\u001b[0m\u001b[0m\n",
      "\u001b[1;31mValueError\u001b[0m: min() arg is an empty sequence"
     ]
    }
   ],
   "source": [
    "def chooser(chosenV,vertexArray, jsonObject):\n",
    "    chosenVOptions = []\n",
    "    for Key in sorted(jsonObject.keys()):\n",
    "        for Val in range(len(jsonObject[Key])):\n",
    "            if str(chosenV)==str(jsonObject[Key][Val][0]) or str(chosenV)==str(jsonObject[Key][Val][1]):\n",
    "                if str(jsonObject[Key][Val][0]) not in vertexArray and str(jsonObject[Key][Val][0]) not in vertexArray:\n",
    "                    chosenVOptions.append([str(Key), str(jsonObject[Key][Val][0]),str(jsonObject[Key][Val][1])])\n",
    "    chosenVertex = min(chosenVOptions)\n",
    "    return chosenVertex[2] if chosenVertex[2] != chosenV else chosenVertex[1]\n",
    "\n",
    "edgeArray = []\n",
    "vertexArray = []\n",
    "\n",
    "for chosenV in v:\n",
    "    if chosenV in vertexArray:\n",
    "        continue\n",
    "    \n",
    "    chosenVertex = chooser(chosenV,vertexArray,jsonObject)\n",
    "    vertexArray.append(chosenV); vertexArray.append(chosenVertex)\n",
    "    len_vertexArray = 0\n",
    "    \n",
    "    while(len(vertexArray)!=len_vertexArray):\n",
    "        len_vertexArray = len(vertexArray)\n",
    "        \n",
    "        expandVertex = []\n",
    "        for secondV in vertexArray:\n",
    "            expandVertex.append([secondV, chooser(secondV,vertexArray,jsonObject)])\n",
    "\n",
    "        print min(expandVertex)\n",
    "        \n",
    "        #vertexArray.append(secondV); vertexArray.append(expandVertex)\n"
   ]
  }
 ],
 "metadata": {
  "kernelspec": {
   "display_name": "Python 2",
   "language": "python",
   "name": "python2"
  },
  "language_info": {
   "codemirror_mode": {
    "name": "ipython",
    "version": 2
   },
   "file_extension": ".py",
   "mimetype": "text/x-python",
   "name": "python",
   "nbconvert_exporter": "python",
   "pygments_lexer": "ipython2",
   "version": "2.7.6"
  }
 },
 "nbformat": 4,
 "nbformat_minor": 0
}
